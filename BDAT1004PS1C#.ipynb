{
 "cells": [
  {
   "cell_type": "markdown",
   "id": "69ac43bc",
   "metadata": {},
   "source": [
    "# Question 1\n",
    "\n",
    "What data type is each of the following?\n",
    "5             int\n",
    "5.0           float\n",
    "5 > 1          bool\n",
    "'5'            str\n",
    "5 * 2          int\n",
    "'5' * 2         str\n",
    "'5' + '2'       str\n",
    "5 / 2          float\n",
    "5 % 2         float\n",
    "{5, 2, 1}       list\n",
    "5 == 3         bool\n",
    "Pi(the number)    folat"
   ]
  },
  {
   "cell_type": "markdown",
   "id": "de56403e",
   "metadata": {},
   "source": [
    "# Question 2\n",
    "\n",
    "Write (and evaluate) C# expressions that answer these questions:\n",
    "\n",
    "a. How many letters are there in 'Supercalifragilisticexpialidocious'?\n",
    "\n",
    "b. Does 'Supercalifragilisticexpialidocious' contain 'ice' as a substring?\n",
    "\n",
    "c. Which of the following words is the longest: Supercalifragilisticexpialidocious, Honorificabilitudinitatibus, or Bababadalgharaghtakamminarronnkonn?\n",
    "\n",
    "d. Which composer comes first in the dictionary: 'Berlioz', 'Borodin', 'Brian', 'Bartok', 'Bellini', 'Buxtehude', 'Bernstein'. Which one comes last?"
   ]
  },
  {
   "cell_type": "code",
   "execution_count": 23,
   "id": "bbc0cb48",
   "metadata": {},
   "outputs": [
    {
     "name": "stdout",
     "output_type": "stream",
     "text": [
      "34\r\n"
     ]
    }
   ],
   "source": [
    "int len = \"Supercalifragilisticexpialidocious\".Length;\n",
    "Console.WriteLine(len);"
   ]
  },
  {
   "cell_type": "code",
   "execution_count": 20,
   "id": "98ee7699",
   "metadata": {},
   "outputs": [
    {
     "name": "stdout",
     "output_type": "stream",
     "text": [
      "True\r\n"
     ]
    }
   ],
   "source": [
    "String key = \"ice\";\n",
    "String word = \"Supercalifragilisticexpialidocious\";\n",
    "Console.WriteLine(word.Contains(key));"
   ]
  },
  {
   "cell_type": "code",
   "execution_count": 44,
   "id": "429ac150",
   "metadata": {},
   "outputs": [
    {
     "name": "stdout",
     "output_type": "stream",
     "text": [
      "Supercalifragilisticexpialidocious and Bababadalgharaghtakamminarronnkonn are longest\r\n"
     ]
    }
   ],
   "source": [
    "int len1 = \"Supercalifragilisticexpialidocious\".Length;\n",
    "int len2 = \"Honorificabilitudinitatibus\".Length;\n",
    "int len3 = \"Bababadalgharaghtakamminarronnkonn\".Length;\n",
    "\n",
    "\n",
    "if (len1>len2)\n",
    "{\n",
    "if (len1>len3)\n",
    "{\n",
    "Console.WriteLine(\"Supercalifragilisticexpialidocious is longest\");\n",
    "}\n",
    "if (len1<len3)\n",
    "{\n",
    "Console.WriteLine(\"Bababadalgharaghtakamminarronnkonn is longest\");\n",
    "}\n",
    "Console.WriteLine(\"Supercalifragilisticexpialidocious and Bababadalgharaghtakamminarronnkonn are longest\");\n",
    "}\n",
    "\n",
    "else\n",
    "{\n",
    "if (len2>len3)\n",
    "{\n",
    "Console.WriteLine(\"Honorificabilitudinitatibus is longest\");\n",
    "}\n",
    "if (len2<len3)\n",
    "{\n",
    "Console.WriteLine(\"Bababadalgharaghtakamminarronnkonn is longest\");\n",
    "}\n",
    "Console.WriteLine(\"Honorificabilitudinitatibus and Bababadalgharaghtakamminarronnkonn are longest\");\n",
    "}\n",
    "\n"
   ]
  },
  {
   "cell_type": "code",
   "execution_count": 5,
   "id": "a4f8adcf",
   "metadata": {},
   "outputs": [
    {
     "name": "stdout",
     "output_type": "stream",
     "text": [
      "Bartok\n",
      "Bellini\n",
      "Berlioz\n",
      "Bernstein\n",
      "Borodin\n",
      "Brian\n",
      "Buxtehude\n"
     ]
    }
   ],
   "source": [
    "var names = new SortedSet<string>();\n",
    "         names.Add(\"Berlioz\");\n",
    "         names.Add(\"Borodin\");\n",
    "         names.Add(\"Brian\");\n",
    "         names.Add(\"Bartok\");\n",
    "         names.Add(\"Bellini\");\n",
    "         names.Add(\"Buxtehude\");\n",
    "         names.Add(\"Bernstein\");\n",
    "         foreach (var name in names)\n",
    "         {\n",
    "         Console.WriteLine(name);\n",
    "         }"
   ]
  },
  {
   "cell_type": "markdown",
   "id": "673c05f6",
   "metadata": {},
   "source": [
    "# Question 3\n",
    "\n",
    "Implement function triangleArea(a,b,c) that takes as input the lengths of the 3 sides of a triangle and returns the area of the triangle. By Heron's formula, the area of a triangle with side lengths a, b, and c is s(s - a)(s -b)(s -c), where s = (a +b + c) /2."
   ]
  },
  {
   "cell_type": "code",
   "execution_count": 55,
   "id": "2bdb5931",
   "metadata": {},
   "outputs": [
    {
     "name": "stdout",
     "output_type": "stream",
     "text": [
      "triangleArea(2,2,2)\n",
      "1.7320508075688772\n"
     ]
    }
   ],
   "source": [
    "int a = 2;\n",
    "int b = 2;\n",
    "int c = 2;\n",
    "int s = (a+b+c)/2;\n",
    "double area = System.Math.Sqrt(s*(s - a)*(s -b)*(s -c));\n",
    "Console.WriteLine(\"triangleArea(2,2,2)\");\n",
    "Console.WriteLine(area);"
   ]
  },
  {
   "cell_type": "markdown",
   "id": "4ad8c6e4",
   "metadata": {},
   "source": [
    "# Question 4\n",
    "\n",
    "Write a program in C# Sharp to separate odd and even integers in separate arrays.\n",
    "Go to the editor\n",
    "Test Data :\n",
    "Input the number of elements to be stored in the array :5\n",
    "Input 5 elements in the array :\n",
    "element - 0 : 25\n",
    "element - 1 : 47\n",
    "element - 2 : 42\n",
    "element - 3 : 56\n",
    "element - 4 : 32\n",
    "Expected Output:\n",
    "The Even elements are:\n",
    "42 56 32\n",
    "The Odd elements are :\n",
    "25 47"
   ]
  },
  {
   "cell_type": "code",
   "execution_count": 62,
   "id": "87675143",
   "metadata": {},
   "outputs": [
    {
     "name": "stdout",
     "output_type": "stream",
     "text": [
      "The Even elements are:\n",
      "42\n",
      "56\n",
      "32\n",
      "The Odd elements are:\n",
      "25\n",
      "47\n"
     ]
    }
   ],
   "source": [
    "int[] arr = new int[5];\n",
    "int[] arr2 = new int[5];\n",
    "int[] arr3 = new int[5];\n",
    "arr[0] = 25;\n",
    "arr[1] = 47;\n",
    "arr[2] = 42;\n",
    "arr[3] = 56;\n",
    "arr[4] = 32;\n",
    "for (int i=0;i<arr.Length;i++)\n",
    "{\n",
    "if(arr[i]%2==0)\n",
    "{\n",
    "arr2[i]=arr[i];\n",
    "}\n",
    "else\n",
    "{\n",
    "arr3[i]=arr[i];\n",
    "}\n",
    "}\n",
    "Console.WriteLine(\"The Even elements are:\");\n",
    "for (int j=0;j<arr2.Length;j++)\n",
    "{\n",
    "if(arr2[j]!=0)\n",
    "{\n",
    "Console.WriteLine(arr2[j]);\n",
    "}\n",
    "}\n",
    "Console.WriteLine(\"The Odd elements are:\");\n",
    "for (int k=0;k<arr3.Length;k++)\n",
    "{\n",
    "if(arr3[k]!=0)\n",
    "{\n",
    "Console.WriteLine(arr3[k]);\n",
    "}\n",
    "}"
   ]
  },
  {
   "cell_type": "markdown",
   "id": "27fe6650",
   "metadata": {},
   "source": [
    "# Question 5\n",
    "\n",
    "a. Write a function inside(x,y,x1,y1,x2,y2) that returns True or False depending on whether the point (x,y) lies in the rectangle with lower left corner (x1,y1) and upper right corner (x2,y2).\n",
    ">>> inside(1,1,0,0,2,3)\n",
    "True\n",
    ">>> inside(-1,-1,0,0,2,3)\n",
    "False\n",
    "\n",
    "b. Use function inside() from part a. to write an expression that tests whether the point (1,1) lies in both of the following rectangles: one with lower left corner (0.3, 0.5) and upper right corner (1.1, 0.7) and the other with lower left corner (0.5, 0.2) and upper right corner (1.1, 2)."
   ]
  },
  {
   "cell_type": "code",
   "execution_count": 88,
   "id": "af34589a",
   "metadata": {},
   "outputs": [
    {
     "name": "stdout",
     "output_type": "stream",
     "text": [
      "inside(-1, -1, 0, 0, 2, 3)\n",
      "False\n"
     ]
    }
   ],
   "source": [
    "static bool inside(int x,int y,int x1,int y1,int x2,int y2)\n",
    "{\n",
    "if (x > x1 && x < x2 && y > y1 && y < y2)\n",
    "    return true;\n",
    "return false;\n",
    "}\n",
    "    int x = -1, y = -1;\n",
    "    int x1 = 0, y1 = 0, x2 = 2, y2 = 3;\n",
    "    \n",
    " \n",
    " Console.WriteLine(\"inside({0}, {1}, {2}, {3}, {4}, {5})\",x,y,x1,y1,x2,y2);\n",
    "    if (inside(x, y, x1, y1, x2, y2))\n",
    "        \n",
    "        Console.WriteLine(\"True\");\n",
    "    else\n",
    "        Console.WriteLine(\"False\");\n",
    "\n"
   ]
  },
  {
   "cell_type": "code",
   "execution_count": 97,
   "id": "43d80b7c",
   "metadata": {},
   "outputs": [
    {
     "name": "stdout",
     "output_type": "stream",
     "text": [
      "inside(1, 1, 0.3, 0.5, 1.1, 0.7)\n",
      "inside(1, 1, 0.5, 0.2, 1.1, 2)\n",
      "False\n"
     ]
    }
   ],
   "source": [
    "static bool inside(double x,double y,double x1,double y1,double x2,double y2)\n",
    "{\n",
    "if (x > x1 && x < x2 && y > y1 && y < y2)\n",
    "    return true;\n",
    "return false;\n",
    "}\n",
    "\n",
    "    double x = 1, y = 1;\n",
    "    double x1 = 0.3, y1 = 0.5, x2 = 1.1, y2 = 0.7;\n",
    "    double x3 = 0.5, y3 = 0.2, x4 = 1.1, y4 = 2;\n",
    "\n",
    " Console.WriteLine(\"inside({0}, {1}, {2}, {3}, {4}, {5})\",x,y,x1,y1,x2,y2);\n",
    " Console.WriteLine(\"inside({0}, {1}, {2}, {3}, {4}, {5})\",x,y,x3,y3,x4,y4);\n",
    " \n",
    "    if (inside(x, y, x1, y1, x2, y2))\n",
    "    {\n",
    "    if (inside(x, y, x3, y3, x4, y4))\n",
    "        Console.WriteLine(\"True\");\n",
    "    }\n",
    "    else\n",
    "        Console.WriteLine(\"False\");"
   ]
  }
 ],
 "metadata": {
  "kernelspec": {
   "display_name": ".NET (C#)",
   "language": "C#",
   "name": ".net-csharp"
  },
  "language_info": {
   "file_extension": ".cs",
   "mimetype": "text/x-csharp",
   "name": "C#",
   "pygments_lexer": "csharp",
   "version": "8.0"
  }
 },
 "nbformat": 4,
 "nbformat_minor": 5
}
