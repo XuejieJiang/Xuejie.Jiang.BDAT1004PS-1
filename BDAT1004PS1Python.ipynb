{
 "cells": [
  {
   "cell_type": "markdown",
   "id": "51d3834f",
   "metadata": {},
   "source": [
    "# Question 6\n",
    "\n",
    "You can turn a word into pig-Latin using the following two rules (simplified):\n",
    "• If the word starts with a consonant, move that letter to the end and append 'ay'. For example, 'happy' becomes 'appyhay' and 'pencil' becomes 'encilpay'.\n",
    "• If the word starts with a vowel, simply append 'way' to the end of the word. For example, 'enter' becomes 'enterway' and 'other' becomes 'otherway' . For our purposes, there are 5 vowels: a, e, i, o, u (so we count y as a consonant).\n",
    "Write a function pig() that takes a word (i.e., a string) as input and returns its pig-Latin form. Your function should still work if the input word contains upper case characters. Your output should always be lower case however.\n",
    ">>> pig('happy')\n",
    "'appyhay'\n",
    ">>> pig('Enter')\n",
    "'enterway'"
   ]
  },
  {
   "cell_type": "code",
   "execution_count": 14,
   "id": "16c036f1",
   "metadata": {},
   "outputs": [
    {
     "name": "stdout",
     "output_type": "stream",
     "text": [
      "Convert word to pig latin:Pencil\n",
      "encilpay\n"
     ]
    }
   ],
   "source": [
    "pig = input(\"Convert word to pig latin:\")\n",
    "wordlist = pig.lower().split(\" \")\n",
    "vowels = ['a','e','i','o','u']\n",
    "pig = []\n",
    "for word in wordlist:\n",
    "    if word[0] in vowels:\n",
    "        pig.append(word + 'way')\n",
    "    if word[0] not in vowels:\n",
    "        for letter in word:\n",
    "            if letter in vowels:\n",
    "                pig.append(word[word.index(letter):] + word[:word.index(letter)] + 'ay')\n",
    "                break\n",
    "                \n",
    "print(\" \".join(pig))"
   ]
  },
  {
   "cell_type": "markdown",
   "id": "a51ecdbe",
   "metadata": {},
   "source": [
    "# Question 7\n",
    "\n",
    "File bloodtype1.txt records blood-types of patients (A, B, AB, O or OO) at a clinic. Write a function bldcount() that reads the file with name name and reports (i.e., prints) how many patients there are in each bloodtype.\n",
    ">>> bldcount('bloodtype.txt')\n",
    "There are 10 patients of blood type A.\n",
    "There is one patient of blood type B.\n",
    "There are 10 patients of blood type AB.\n",
    "There are 12 patients of blood type O.\n",
    "There are no patients of blood type OO.\n"
   ]
  },
  {
   "cell_type": "code",
   "execution_count": 15,
   "id": "1eb88e17",
   "metadata": {},
   "outputs": [
    {
     "name": "stdout",
     "output_type": "stream",
     "text": [
      "There are 13 patients with blood type AB.\n",
      "There are 15 patients with blood type A.\n",
      "There is 1 patient of blood type B.\n",
      "There are 15 patients with blood type O.\n",
      "There is no patient of blood type OO.\n"
     ]
    }
   ],
   "source": [
    "def bldcount(filename):\n",
    "    with open(filename, 'r') as f:\n",
    "            sumo, suma, sumb, sumab, sumoo = 0, 0, 0, 0, 0\n",
    "            for a in f:\n",
    "                words = a.strip().split(' ')\n",
    "                sumab = words.count(\"AB\")\n",
    "                suma = words.count(\"A\")\n",
    "                sumb = words.count(\"B\")\n",
    "                sumo = words.count(\"O\")\n",
    "                sumoo = words.count(\"OO\")\n",
    "                    \n",
    "            if sumab == 0:\n",
    "                print(\"There is no patient of blood type AB.\")\n",
    "            elif sumab == 1:\n",
    "                print(\"There is 1 patient of blood type AB.\")\n",
    "            else:\n",
    "                print(\"There are {} patients with blood type AB.\".format(sumab))\n",
    "                \n",
    "                \n",
    "            if suma == 0:\n",
    "                print(\"There is no patient of blood type A.\")\n",
    "            elif suma == 1:\n",
    "                print(\"There is 1 patient of blood type A.\")\n",
    "            else:\n",
    "                print(\"There are {} patients with blood type A.\".format(suma))\n",
    "\n",
    "                \n",
    "            if sumb == 0:\n",
    "                print(\"There is no patient of blood type B.\")\n",
    "            elif sumb == 1:\n",
    "                print(\"There is 1 patient of blood type B.\")\n",
    "            else:\n",
    "                print(\"There are {} patients with blood type B.\".format(sumb))\n",
    "\n",
    "\n",
    "            if sumo == 0:\n",
    "                print(\"There is no patient of blood type O.\")\n",
    "            elif sumo == 1:\n",
    "                print(\"There is 1 patient of blood type O.\")\n",
    "            else:\n",
    "                print(\"There are {} patients with blood type O.\".format(sumo))\n",
    "\n",
    "            if sumoo == 0:\n",
    "                print(\"There is no patient of blood type OO.\")\n",
    "            elif sumoo == 1:\n",
    "                print(\"There is 1 patient of blood type OO.\")\n",
    "            else:\n",
    "                print(\"There are {} patients with blood type OO.\".format(sumoo))\n",
    "        \n",
    "bldcount('bloodtype1.txt')"
   ]
  },
  {
   "cell_type": "markdown",
   "id": "ab784542",
   "metadata": {},
   "source": [
    "# Question 8\n",
    "\n",
    "Write a function curconv() that takes as input:\n",
    "1. a currency represented using a string (e.g., 'JPY' for the Japanese Yen or 'EUR' for the Euro)\n",
    "2. an amount\n",
    "and then converts and returns the amount in US dollars.\n",
    ">>> curconv('EUR', 100)\n",
    "122.96544\n",
    ">>> curconv('JPY', 100)\n",
    "1.241401\n",
    "The currency rates you will need are stored in file currencies.txt:\n",
    "AUD 1.0345157 Australian Dollar\n",
    "CHF 1.0237414 Swiss Franc\n",
    "CNY 0.1550176 Chinese Yuan\n",
    "DKK 0.1651442 Danish Krone\n",
    "EUR 1.2296544 Euro\n",
    "GBP 1.5550989 British Pound\n",
    "HKD 0.1270207 Hong Kong Dollar\n",
    "INR 0.0177643 Indian Rupee\n",
    "JPY 0.01241401 Japanese Yen\n",
    "MXN 0.0751848 Mexican Peso\n",
    "MYR 0.3145411 Malaysian Ringgit\n",
    "NOK 0.1677063 Norwegian Krone\n",
    "NZD 0.8003591 New Zealand Dollar\n",
    "PHP 0.0233234 Philippine Peso\n",
    "SEK 0.148269 Swedish Krona\n",
    "SGD 0.788871 Singapore Dollar\n",
    "THB 0.0313789 Thai Baht"
   ]
  },
  {
   "cell_type": "code",
   "execution_count": 6,
   "id": "f0bdc7eb",
   "metadata": {},
   "outputs": [
    {
     "name": "stdout",
     "output_type": "stream",
     "text": [
      "122.96544\n"
     ]
    }
   ],
   "source": [
    "def curconv(a,b):\n",
    "    ans = 0\n",
    "    c = ['AUD','CHF','CNY','DKK','EUR','GBP','HKD','INR','JPY','MXN','MYR','NOK','NZD','PHP','SEK','SGD','THB']\n",
    "    ex = [1.0345157,1.0237414,0.1550176,0.1651442,1.2296544,1.5550989,0.1270207,0.0177643,0.01241401,0.0751848,0.3145411,0.1677063,0.8003591,0.0233234,0.148269,0.788871,0.0313789]\n",
    "    for i in range(len(c)):\n",
    "        if(c[i] == a ):\n",
    "            ans = b * ex[i]\n",
    "            break\n",
    "    return ans;\n",
    "\n",
    "print(curconv(\"EUR\",100))"
   ]
  },
  {
   "cell_type": "markdown",
   "id": "64895ad5",
   "metadata": {},
   "source": [
    "# Question 9\n",
    "\n",
    "Each of the following will cause an exception (an error). Identify what type of exception each will cause.\n",
    "\n",
    "1. Trying to add incompatible variables, as in adding 6 + ‘a’\n",
    "\n",
    "2. Referring to the 12th item of a list that has only 10 items\n",
    "\n",
    "3. Using a value that is out of range for a function’s input, such as calling math.sqrt(-1.0)\n",
    "\n",
    "4. Using an undeclared variable, such as print(x)\n",
    "   when x has not been defined\n",
    "\n",
    "5. Trying to open a file that does not exist, such as mistyping the file name or looking in the wrong directory."
   ]
  },
  {
   "cell_type": "markdown",
   "id": "89c0f10a",
   "metadata": {},
   "source": [
    "Answers:\n",
    "1. unsupported operand type(s) for +: 'int' and 'str'\n",
    "2. IndexError: list index out of range\n",
    "3. ValueError: math domain error\n",
    "4. NameError: name 'x' is not defined\n",
    "5. FileNotFoundError: [Errno 2] No such file or directory: 'bloodtype.txt'\n"
   ]
  },
  {
   "cell_type": "markdown",
   "id": "28912533",
   "metadata": {},
   "source": [
    "# Question 10\n",
    "\n",
    "Encryption is the process of hiding the meaning of a text by substituting letters in the message with other letters, according to some system. If the process is successful, no one but the intended recipient can understand the encrypted message. Cryptanalysis refers to attempts to undo the encryption, even if some details of the encryption are unknown (for example, if an encrypted message has been intercepted). The first step of cryptanalysis is often to build up a table of letter frequencies in the encrypted text. Assume that the string letters is already defined as 'abcdefghijklmnopqrstuvwxyz'. Write a function called frequencies() that takes a string as its only parameter, and returns a list of integers, showing the number of times each character appears in the text. Your function may ignore any characters that are not in letters.\n",
    ">>> frequencies('The quick red fox got bored and went home.')\n",
    "[1, 1, 1, 3, 5, 1, 1, 2, 1, 0, 1, 0, 1, 2, 4, 0, 1, 2, 0, 2, 1, 0, 1, 1, 0, 0]\n",
    ">>> frequencies('apple')"
   ]
  },
  {
   "cell_type": "code",
   "execution_count": 8,
   "id": "e0ade011",
   "metadata": {},
   "outputs": [
    {
     "data": {
      "text/plain": [
       "[1, 1, 1, 3, 5, 1, 1, 2, 1, 0, 1, 0, 1, 2, 4, 0, 1, 2, 0, 3, 1, 0, 1, 1, 0, 0]"
      ]
     },
     "execution_count": 8,
     "metadata": {},
     "output_type": "execute_result"
    }
   ],
   "source": [
    "import string\n",
    "from collections import OrderedDict\n",
    "\n",
    "def frequencies(str1):\n",
    "    dict1=dict(OrderedDict(zip(string.ascii_lowercase,[0]*26)))\n",
    "        \n",
    "    for i in range(0,len(str1)):\n",
    "    \n",
    "        if str1[i]=='a' or str1[i]=='A':\n",
    "            dict1['a']+=1\n",
    "  \n",
    "        elif str1[i]=='b' or str1[i]=='B':\n",
    "            dict1['b']+=1\n",
    "  \n",
    "        elif str1[i]=='c' or str1[i]=='c':\n",
    "            dict1['c']+=1\n",
    "  \n",
    "        elif str1[i]=='d' or str1[i]=='D':\n",
    "            dict1['d']+=1\n",
    "  \n",
    "        elif str1[i]=='e' or str1[i]=='E':\n",
    "            dict1['e']+=1\n",
    "  \n",
    "        elif str1[i]=='f' or str1[i]=='F':\n",
    "            dict1['f']+=1\n",
    "  \n",
    "        elif str1[i]=='g' or str1[i]=='G':\n",
    "            dict1['g']+=1\n",
    "\n",
    "        elif str1[i]=='h' or str1[i]=='H':\n",
    "            dict1['h']+=1\n",
    "  \n",
    "        elif str1[i]=='i' or str1[i]=='I':\n",
    "            dict1['i']+=1\n",
    "  \n",
    "        elif str1[i]=='j' or str1[i]=='J':\n",
    "            dict1['j']+=1\n",
    "  \n",
    "        elif str1[i]=='k' or str1[i]=='K':\n",
    "            dict1['k']+=1\n",
    "  \n",
    "        elif str1[i]=='l' or str1[i]=='L':\n",
    "            dict1['l']+=1\n",
    "  \n",
    "        elif str1[i]=='m' or str1[i]=='M':\n",
    "            dict1['m']+=1\n",
    "  \n",
    "        elif str1[i]=='n' or str1[i]=='N':\n",
    "            dict1['n']+=1\n",
    "  \n",
    "        elif str1[i]=='o' or str1[i]=='O':\n",
    "            dict1['o']+=1\n",
    "  \n",
    "        elif str1[i]=='p' or str1[i]=='P':\n",
    "            dict1['p']+=1\n",
    "  \n",
    "        elif str1[i]=='q' or str1[i]=='Q':\n",
    "            dict1['q']+=1\n",
    "  \n",
    "        elif str1[i]=='r' or str1[i]=='R':\n",
    "            dict1['r']+=1\n",
    "  \n",
    "        elif str1[i]=='s' or str1[i]=='S':\n",
    "            dict1['s']+=1\n",
    "  \n",
    "        elif str1[i]=='t' or str1[i]=='T':\n",
    "            dict1['t']+=1\n",
    "  \n",
    "        elif str1[i]=='u' or str1[i]=='U':\n",
    "            dict1['u']+=1\n",
    "  \n",
    "        elif str1[i]=='v' or str1[i]=='V':\n",
    "            dict1['v']+=1\n",
    "  \n",
    "        elif str1[i]=='w' or str1[i]=='W':\n",
    "            dict1['w']+=1\n",
    "  \n",
    "        elif str1[i]=='x' or str1[i]=='X':\n",
    "            dict1['x']+=1\n",
    "  \n",
    "        elif str1[i]=='y' or str1[i]=='Y':\n",
    "            dict1['y']+=1\n",
    "  \n",
    "        elif str1[i]=='z' or str1[i]=='Z':\n",
    "            dict1['z']+=1\n",
    "   \n",
    "    lst = list(dict1.values())\n",
    "    return lst\n",
    "\n",
    "frequencies(\"The quick red fox got bored and went home.\")"
   ]
  },
  {
   "cell_type": "code",
   "execution_count": null,
   "id": "0b7e5351",
   "metadata": {},
   "outputs": [],
   "source": []
  }
 ],
 "metadata": {
  "kernelspec": {
   "display_name": "Python 3 (ipykernel)",
   "language": "python",
   "name": "python3"
  },
  "language_info": {
   "codemirror_mode": {
    "name": "ipython",
    "version": 3
   },
   "file_extension": ".py",
   "mimetype": "text/x-python",
   "name": "python",
   "nbconvert_exporter": "python",
   "pygments_lexer": "ipython3",
   "version": "3.9.7"
  }
 },
 "nbformat": 4,
 "nbformat_minor": 5
}
